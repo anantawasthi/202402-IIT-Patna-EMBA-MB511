{
 "cells": [
  {
   "cell_type": "markdown",
   "id": "ce1facf6-bc7d-43b9-b2f4-28b804239920",
   "metadata": {},
   "source": [
    "## About this notebook"
   ]
  },
  {
   "cell_type": "markdown",
   "id": "a8e64160-f957-49ee-b540-b7ca82de8698",
   "metadata": {},
   "source": [
    "### This notebook is created to collate all the tutorials at the central location. This notebook will be updated frequently and latest version will be available on github. "
   ]
  },
  {
   "cell_type": "markdown",
   "id": "fe0789ff-bca5-4297-82b2-1ee784b2cd53",
   "metadata": {},
   "source": [
    "---"
   ]
  },
  {
   "cell_type": "markdown",
   "id": "dab0366e-b5fa-4996-aaff-0986b2d72a55",
   "metadata": {},
   "source": [
    "Loading required libraries"
   ]
  },
  {
   "cell_type": "code",
   "execution_count": 1,
   "id": "2b97ad6b-3d22-43ea-823e-d05d7f3829e1",
   "metadata": {},
   "outputs": [],
   "source": [
    "from IPython.display import YouTubeVideo, display"
   ]
  },
  {
   "cell_type": "markdown",
   "id": "f7fa8cec-2bb1-4e35-9019-d015ccbb6f91",
   "metadata": {},
   "source": [
    "---"
   ]
  },
  {
   "cell_type": "markdown",
   "id": "dbb62230-cf8a-4708-9ffa-9a20a432a8c7",
   "metadata": {},
   "source": [
    "### Installing Anaconda on your Machine"
   ]
  },
  {
   "cell_type": "code",
   "execution_count": 2,
   "id": "36cc5cd4-e426-46a1-b5bc-e6b752c899f7",
   "metadata": {
    "slideshow": {
     "slide_type": ""
    },
    "tags": []
   },
   "outputs": [
    {
     "data": {
      "text/html": [
       "\n",
       "        <iframe\n",
       "            width=\"400\"\n",
       "            height=\"300\"\n",
       "            src=\"https://www.youtube.com/embed/https://www.youtube.com/watch?v=Qve5JTd1OSA\"\n",
       "            frameborder=\"0\"\n",
       "            allowfullscreen\n",
       "            \n",
       "        ></iframe>\n",
       "        "
      ],
      "text/plain": [
       "<IPython.lib.display.YouTubeVideo at 0x221cc6425d0>"
      ]
     },
     "metadata": {},
     "output_type": "display_data"
    }
   ],
   "source": [
    "display(YouTubeVideo('https://www.youtube.com/watch?v=Qve5JTd1OSA'))"
   ]
  },
  {
   "cell_type": "markdown",
   "id": "1fab996d-b32a-479d-909a-c007726c6d86",
   "metadata": {},
   "source": [
    "---"
   ]
  },
  {
   "cell_type": "markdown",
   "id": "bee6df73-ca87-40c3-b498-7f22b85f3b3c",
   "metadata": {},
   "source": [
    "### Data Types in Python"
   ]
  },
  {
   "cell_type": "code",
   "execution_count": 3,
   "id": "0535d26d-593a-4e43-b811-3cedb1b7d219",
   "metadata": {},
   "outputs": [
    {
     "data": {
      "text/html": [
       "\n",
       "        <iframe\n",
       "            width=\"400\"\n",
       "            height=\"300\"\n",
       "            src=\"https://www.youtube.com/embed/https://www.youtube.com/watch?v=k7OTRmVrw7w\"\n",
       "            frameborder=\"0\"\n",
       "            allowfullscreen\n",
       "            \n",
       "        ></iframe>\n",
       "        "
      ],
      "text/plain": [
       "<IPython.lib.display.YouTubeVideo at 0x221cc662e90>"
      ]
     },
     "metadata": {},
     "output_type": "display_data"
    }
   ],
   "source": [
    "display(YouTubeVideo('https://www.youtube.com/watch?v=k7OTRmVrw7w'))"
   ]
  },
  {
   "cell_type": "markdown",
   "id": "551bf37b-8c07-4ab2-991a-f1de6a623ae0",
   "metadata": {},
   "source": [
    "---"
   ]
  },
  {
   "cell_type": "markdown",
   "id": "77c35d0d-3874-4051-8bf4-8c4e89cb7901",
   "metadata": {},
   "source": [
    "### Control structure in Python"
   ]
  },
  {
   "cell_type": "code",
   "execution_count": 4,
   "id": "aad7a800-d42d-4b51-b48d-d509781f505c",
   "metadata": {},
   "outputs": [
    {
     "data": {
      "text/html": [
       "\n",
       "        <iframe\n",
       "            width=\"400\"\n",
       "            height=\"300\"\n",
       "            src=\"https://www.youtube.com/embed/https://www.youtube.com/watch?v=9xiFcK3MRYA\"\n",
       "            frameborder=\"0\"\n",
       "            allowfullscreen\n",
       "            \n",
       "        ></iframe>\n",
       "        "
      ],
      "text/plain": [
       "<IPython.lib.display.YouTubeVideo at 0x221cc67a850>"
      ]
     },
     "metadata": {},
     "output_type": "display_data"
    }
   ],
   "source": [
    "display(YouTubeVideo('https://www.youtube.com/watch?v=9xiFcK3MRYA'))"
   ]
  },
  {
   "cell_type": "markdown",
   "id": "5b2ef5ee-5390-4833-a891-1fb3a4e364da",
   "metadata": {},
   "source": [
    "---"
   ]
  },
  {
   "cell_type": "markdown",
   "id": "35356b5f-a349-44c6-b82f-d822d34e9af5",
   "metadata": {},
   "source": [
    "### Loops in python"
   ]
  },
  {
   "cell_type": "code",
   "execution_count": 5,
   "id": "a69f480f-6f1a-4670-9810-b85819b6a1dc",
   "metadata": {},
   "outputs": [
    {
     "data": {
      "text/html": [
       "\n",
       "        <iframe\n",
       "            width=\"400\"\n",
       "            height=\"300\"\n",
       "            src=\"https://www.youtube.com/embed/https://www.youtube.com/watch?v=_Li18QM_9U4\"\n",
       "            frameborder=\"0\"\n",
       "            allowfullscreen\n",
       "            \n",
       "        ></iframe>\n",
       "        "
      ],
      "text/plain": [
       "<IPython.lib.display.YouTubeVideo at 0x221cc675090>"
      ]
     },
     "metadata": {},
     "output_type": "display_data"
    }
   ],
   "source": [
    "display(YouTubeVideo('https://www.youtube.com/watch?v=_Li18QM_9U4'))"
   ]
  },
  {
   "cell_type": "markdown",
   "id": "3a8a0052-bcb8-4658-a94e-909619c077ee",
   "metadata": {},
   "source": [
    "---"
   ]
  },
  {
   "cell_type": "markdown",
   "id": "accfeaa8-9478-40e0-bd64-3772f5f9db34",
   "metadata": {},
   "source": [
    "### Functions in python"
   ]
  },
  {
   "cell_type": "code",
   "execution_count": 6,
   "id": "5dadf6fc-4008-4fe4-a068-4b8b82967037",
   "metadata": {},
   "outputs": [
    {
     "data": {
      "text/html": [
       "\n",
       "        <iframe\n",
       "            width=\"400\"\n",
       "            height=\"300\"\n",
       "            src=\"https://www.youtube.com/embed/https://www.youtube.com/watch?v=jpqi_HRdpGA\"\n",
       "            frameborder=\"0\"\n",
       "            allowfullscreen\n",
       "            \n",
       "        ></iframe>\n",
       "        "
      ],
      "text/plain": [
       "<IPython.lib.display.YouTubeVideo at 0x221cc674550>"
      ]
     },
     "metadata": {},
     "output_type": "display_data"
    }
   ],
   "source": [
    "display(YouTubeVideo('https://www.youtube.com/watch?v=jpqi_HRdpGA'))"
   ]
  },
  {
   "cell_type": "markdown",
   "id": "caf0d78a-0b82-488a-a8e7-23a030cc5466",
   "metadata": {},
   "source": [
    "---"
   ]
  },
  {
   "cell_type": "markdown",
   "id": "dd155361-2674-427b-afd1-009af4f9b808",
   "metadata": {},
   "source": [
    "### Lambda functions"
   ]
  },
  {
   "cell_type": "code",
   "execution_count": 7,
   "id": "a53fd397-530d-46c2-9b27-9027054c5c1e",
   "metadata": {},
   "outputs": [
    {
     "data": {
      "text/html": [
       "\n",
       "        <iframe\n",
       "            width=\"400\"\n",
       "            height=\"300\"\n",
       "            src=\"https://www.youtube.com/embed/https://www.youtube.com/watch?v=LQatU6WFZiM\"\n",
       "            frameborder=\"0\"\n",
       "            allowfullscreen\n",
       "            \n",
       "        ></iframe>\n",
       "        "
      ],
      "text/plain": [
       "<IPython.lib.display.YouTubeVideo at 0x221cc6876d0>"
      ]
     },
     "metadata": {},
     "output_type": "display_data"
    }
   ],
   "source": [
    "display(YouTubeVideo('https://www.youtube.com/watch?v=LQatU6WFZiM'))"
   ]
  },
  {
   "cell_type": "code",
   "execution_count": null,
   "id": "5249ebe1-31b4-4b85-9bc3-098fd89a259a",
   "metadata": {},
   "outputs": [],
   "source": []
  }
 ],
 "metadata": {
  "kernelspec": {
   "display_name": "Python 3 (ipykernel)",
   "language": "python",
   "name": "python3"
  },
  "language_info": {
   "codemirror_mode": {
    "name": "ipython",
    "version": 3
   },
   "file_extension": ".py",
   "mimetype": "text/x-python",
   "name": "python",
   "nbconvert_exporter": "python",
   "pygments_lexer": "ipython3",
   "version": "3.11.7"
  }
 },
 "nbformat": 4,
 "nbformat_minor": 5
}
