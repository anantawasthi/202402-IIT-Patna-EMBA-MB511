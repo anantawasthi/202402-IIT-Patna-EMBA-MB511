{
 "cells": [
  {
   "cell_type": "markdown",
   "id": "2f27bdd4-5060-4823-ab9f-6c7f6158e090",
   "metadata": {},
   "source": [
    "### Installing Packages in Python"
   ]
  },
  {
   "cell_type": "code",
   "execution_count": 1,
   "id": "f87af6e0-6279-4e70-9185-ddea309fa390",
   "metadata": {},
   "outputs": [
    {
     "name": "stdout",
     "output_type": "stream",
     "text": [
      "Requirement already satisfied: pandas in c:\\users\\emba-iitpatna\\anaconda3\\lib\\site-packages (2.1.4)\n",
      "Requirement already satisfied: numpy<2,>=1.23.2 in c:\\users\\emba-iitpatna\\anaconda3\\lib\\site-packages (from pandas) (1.26.3)\n",
      "Requirement already satisfied: python-dateutil>=2.8.2 in c:\\users\\emba-iitpatna\\anaconda3\\lib\\site-packages (from pandas) (2.8.2)\n",
      "Requirement already satisfied: pytz>=2020.1 in c:\\users\\emba-iitpatna\\anaconda3\\lib\\site-packages (from pandas) (2023.3.post1)\n",
      "Requirement already satisfied: tzdata>=2022.1 in c:\\users\\emba-iitpatna\\anaconda3\\lib\\site-packages (from pandas) (2023.3)\n",
      "Requirement already satisfied: six>=1.5 in c:\\users\\emba-iitpatna\\anaconda3\\lib\\site-packages (from python-dateutil>=2.8.2->pandas) (1.16.0)\n"
     ]
    }
   ],
   "source": [
    "! pip install pandas"
   ]
  },
  {
   "cell_type": "markdown",
   "id": "edba64de-2e7c-4e44-af5d-e6d8c0ccd6e6",
   "metadata": {},
   "source": [
    "### Loading Packages in Python"
   ]
  },
  {
   "cell_type": "code",
   "execution_count": 2,
   "id": "44461b98-2dc9-4b16-b227-c8276619e34f",
   "metadata": {},
   "outputs": [],
   "source": [
    "import pandas"
   ]
  },
  {
   "cell_type": "markdown",
   "id": "40cf74c8-7c29-4f77-b4cf-46c014a1be1d",
   "metadata": {},
   "source": [
    "### Alias a package in Python"
   ]
  },
  {
   "cell_type": "code",
   "execution_count": 3,
   "id": "61c85813-7be1-43bb-afad-6474ad025653",
   "metadata": {},
   "outputs": [],
   "source": [
    "import pandas as pd"
   ]
  },
  {
   "cell_type": "code",
   "execution_count": 4,
   "id": "bf9d672f-0b4f-43a2-8f52-22bda82dc3c4",
   "metadata": {},
   "outputs": [
    {
     "data": {
      "text/plain": [
       "'2.1.4'"
      ]
     },
     "execution_count": 4,
     "metadata": {},
     "output_type": "execute_result"
    }
   ],
   "source": [
    "pd.__version__"
   ]
  }
 ],
 "metadata": {
  "kernelspec": {
   "display_name": "Python 3 (ipykernel)",
   "language": "python",
   "name": "python3"
  },
  "language_info": {
   "codemirror_mode": {
    "name": "ipython",
    "version": 3
   },
   "file_extension": ".py",
   "mimetype": "text/x-python",
   "name": "python",
   "nbconvert_exporter": "python",
   "pygments_lexer": "ipython3",
   "version": "3.11.7"
  }
 },
 "nbformat": 4,
 "nbformat_minor": 5
}
